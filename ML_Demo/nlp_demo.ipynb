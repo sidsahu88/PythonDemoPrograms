{
 "cells": [
  {
   "cell_type": "code",
   "execution_count": null,
   "metadata": {
    "scrolled": true
   },
   "outputs": [],
   "source": [
    "import nltk\n",
    "\n",
    "nltk.download(\"movie_reviews\")"
   ]
  },
  {
   "cell_type": "code",
   "execution_count": 103,
   "metadata": {},
   "outputs": [],
   "source": [
    "def extract_features(word_list):\n",
    "    return dict([(word, True) for word in word_list])\n"
   ]
  },
  {
   "cell_type": "code",
   "execution_count": 104,
   "metadata": {},
   "outputs": [],
   "source": [
    "#Load positive and negative reviews from new datasets\n",
    "from nltk.corpus import movie_reviews as mrev\n",
    "\n",
    "positive_fileids = mrev.fileids('pos')\n",
    "negative_fileids = mrev.fileids('neg')"
   ]
  },
  {
   "cell_type": "code",
   "execution_count": 105,
   "metadata": {},
   "outputs": [
    {
     "name": "stdout",
     "output_type": "stream",
     "text": [
      "Positive Features Length:  1000\n",
      "Negative Features Length:  1000\n"
     ]
    }
   ],
   "source": [
    "positive_features = [(extract_features(mrev.words(fileids=[f])), 'Positive') for f in positive_fileids]\n",
    "negative_features = [(extract_features(mrev.words(fileids=[f])), 'Negative') for f in negative_fileids]\n",
    "\n",
    "print('Positive Features Length: ', len(positive_features))\n",
    "print('Negative Features Length: ', len(negative_features))"
   ]
  },
  {
   "cell_type": "code",
   "execution_count": 106,
   "metadata": {},
   "outputs": [
    {
     "name": "stdout",
     "output_type": "stream",
     "text": [
      "800\n",
      "800\n"
     ]
    }
   ],
   "source": [
    "#Splitting the data for training and testing as 80/20\n",
    "\n",
    "threshold_factor = 0.8 #80% for training\n",
    "threshold_positive = int(threshold_factor * len(positive_features))\n",
    "threshold_negative = int(threshold_factor * len(negative_features))\n",
    "\n",
    "print(threshold_positive)\n",
    "print(threshold_negative)"
   ]
  },
  {
   "cell_type": "code",
   "execution_count": 107,
   "metadata": {},
   "outputs": [
    {
     "name": "stdout",
     "output_type": "stream",
     "text": [
      "1600\n",
      "400\n"
     ]
    }
   ],
   "source": [
    "#Take date from 0 to threshold value\n",
    "\n",
    "features_train = positive_features[:threshold_positive] + negative_features[:threshold_negative]\n",
    "features_test = positive_features[threshold_positive:] + negative_features[threshold_negative:]\n",
    "\n",
    "print(len(features_train))\n",
    "print(len(features_test))"
   ]
  },
  {
   "cell_type": "code",
   "execution_count": 108,
   "metadata": {},
   "outputs": [
    {
     "name": "stdout",
     "output_type": "stream",
     "text": [
      "0.735\n"
     ]
    }
   ],
   "source": [
    "#Algorithm to train the model\n",
    "from nltk.classify import NaiveBayesClassifier as nbclassifier\n",
    "\n",
    "classifier = nbclassifier.train(features_train)\n",
    "\n",
    "print(nltk.classify.util.accuracy(classifier, features_test))"
   ]
  },
  {
   "cell_type": "code",
   "execution_count": 109,
   "metadata": {},
   "outputs": [
    {
     "name": "stdout",
     "output_type": "stream",
     "text": [
      "Top 10 informative words:\n",
      "outstanding\n",
      "insulting\n",
      "vulnerable\n",
      "ludicrous\n",
      "uninvolving\n",
      "astounding\n",
      "avoids\n",
      "fascination\n",
      "affecting\n",
      "darker\n"
     ]
    }
   ],
   "source": [
    "# Top 10 informative words \n",
    "print('Top 10 informative words:')\n",
    "for item in classifier.most_informative_features()[:10]:\n",
    "    print(item[0])\n",
    "    "
   ]
  },
  {
   "cell_type": "code",
   "execution_count": 110,
   "metadata": {},
   "outputs": [
    {
     "name": "stdout",
     "output_type": "stream",
     "text": [
      "\n",
      "Review:  This movie is amazing\n",
      "Predicted Sentiment:  Positive\n",
      "Probability:  0.61\n",
      "\n",
      "Review:  I loved it\n",
      "Predicted Sentiment:  Positive\n",
      "Probability:  0.62\n",
      "\n",
      "Review:  The movie is very slow and story is going on in circle\n",
      "Predicted Sentiment:  Positive\n",
      "Probability:  0.71\n",
      "\n",
      "Review:  Movie is pathetic!\n",
      "Predicted Sentiment:  Positive\n",
      "Probability:  0.5\n",
      "\n",
      "Review:  I would never recommend it to anyone\n",
      "Predicted Sentiment:  Negative\n",
      "Probability:  0.5\n",
      "\n",
      "Review:  One of the best Marvel movie till date\n",
      "Predicted Sentiment:  Positive\n",
      "Probability:  0.7\n",
      "\n",
      "Review:  The direction was terrible and the story was all over the place\n",
      "Predicted Sentiment:  Negative\n",
      "Probability:  0.63\n"
     ]
    }
   ],
   "source": [
    "input_reviews = [\n",
    "    \"This movie is amazing\",\n",
    "    \"I loved it\",\n",
    "    \"The movie is very slow and story is going on in circle\",\n",
    "    \"Movie is pathetic!\",\n",
    "    \"I would never recommend it to anyone\",\n",
    "    \"One of the best Marvel movie till date\",\n",
    "    \"The direction was terrible and the story was all over the place\"\n",
    "]\n",
    "\n",
    "for review in input_reviews:\n",
    "    print('\\nReview: ', review)\n",
    "    prob_classify = classifier.prob_classify(extract_features(review.split()))\n",
    "    predct_sentiment = prob_classify.max()\n",
    "    print('Predicted Sentiment: ', predct_sentiment)\n",
    "    print('Probability: ', round(prob_classify.prob(predct_sentiment), 2))"
   ]
  },
  {
   "cell_type": "code",
   "execution_count": null,
   "metadata": {},
   "outputs": [],
   "source": []
  }
 ],
 "metadata": {
  "kernelspec": {
   "display_name": "Python 3",
   "language": "python",
   "name": "python3"
  },
  "language_info": {
   "codemirror_mode": {
    "name": "ipython",
    "version": 3
   },
   "file_extension": ".py",
   "mimetype": "text/x-python",
   "name": "python",
   "nbconvert_exporter": "python",
   "pygments_lexer": "ipython3",
   "version": "3.7.3"
  }
 },
 "nbformat": 4,
 "nbformat_minor": 2
}
