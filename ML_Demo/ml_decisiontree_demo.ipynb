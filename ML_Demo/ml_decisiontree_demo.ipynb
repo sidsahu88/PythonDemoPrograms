{
 "cells": [
  {
   "cell_type": "code",
   "execution_count": 1,
   "metadata": {
    "scrolled": true
   },
   "outputs": [],
   "source": [
    "import pandas as pd\n",
    "from matplotlib import pyplot as plot\n",
    "from sklearn.tree import DecisionTreeClassifier #for ML algorithm\n",
    "from sklearn.model_selection import train_test_split  #for splitting the data sets\n",
    "from sklearn.metrics import accuracy_score  #for accuracy score of the predictions\n",
    "from sklearn.externals import joblib"
   ]
  },
  {
   "cell_type": "code",
   "execution_count": 2,
   "metadata": {
    "scrolled": true
   },
   "outputs": [
    {
     "data": {
      "image/png": "[encoded data removed]",
      "text/plain": [
       "<Figure size 432x288 with 1 Axes>"
      ]
     },
     "metadata": {
      "needs_background": "light"
     },
     "output_type": "display_data"
    }
   ],
   "source": [
    "#Step 1: Import the data\n",
    "music_data = pd.read_csv('music.csv') #read csv file\n",
    "\n",
    "#Step 2: Clean the data. As there is nothing to clean so proceed to step 3: Split the datasets\n",
    "#Step 3: Split the datasets\n",
    "Input = music_data.drop(columns = ['genre']) #drop the columns in the data set\n",
    "output = music_data['genre']\n",
    "\n",
    "plot.bar(music_data['genre'], music_data['age'])\n",
    "plot.show()\n",
    "\n",
    "Input_train, Input_test, output_train, output_test = train_test_split(Input, output, test_size = 0.2) #returns tuple of the train and test datasets"
   ]
  },
  {
   "cell_type": "code",
   "execution_count": null,
   "metadata": {},
   "outputs": [],
   "source": [
    "#Step 4: Build model using ML Algorithm\n",
    "model = DecisionTreeClassifier()\n",
    "#Step 5: Train the model\n",
    "model.fit(Input_train, output_train)"
   ]
  },
  {
   "cell_type": "code",
   "execution_count": null,
   "metadata": {},
   "outputs": [],
   "source": [
    "# Persisting the model to not create model again and again\n",
    "joblib.dump(model, 'music-recommender-model.joblib')"
   ]
  },
  {
   "cell_type": "code",
   "execution_count": 4,
   "metadata": {},
   "outputs": [
    {
     "data": {
      "text/plain": [
       "1.0"
      ]
     },
     "execution_count": 4,
     "metadata": {},
     "output_type": "execute_result"
    }
   ],
   "source": [
    "#Step 6: Make the prediction\n",
    "predictions = model.predict(Input_test)\n",
    "\n",
    "#Check the accuracy\n",
    "accuracy_score(output_test, predictions)"
   ]
  },
  {
   "cell_type": "code",
   "execution_count": 4,
   "metadata": {},
   "outputs": [
    {
     "data": {
      "text/plain": [
       "array(['HipHop', 'Dance'], dtype=object)"
      ]
     },
     "execution_count": 4,
     "metadata": {},
     "output_type": "execute_result"
    }
   ],
   "source": [
    "# Loading the model from a file\n",
    "persist_model = joblib.load('music-recommender-model.joblib')\n",
    "\n",
    "persist_model.predict([[22, 1], [23, 0]])"
   ]
  },
  {
   "cell_type": "code",
   "execution_count": 5,
   "metadata": {},
   "outputs": [
    {
     "name": "stdout",
     "output_type": "stream",
     "text": [
      "Open the output file: music-recommender.dot in graphviz!\n"
     ]
    }
   ],
   "source": [
    "from sklearn import tree #to check decision tree\n",
    "\n",
    "tree.export_graphviz(persist_model, out_file='music-recommender.dot',\n",
    "                     feature_names=['age', 'gender'],\n",
    "                     class_names=sorted(output.unique()),\n",
    "                     label='all',\n",
    "                     rounded=True,\n",
    "                     filled=True)\n",
    "\n",
    "print('Open the output file: music-recommender.dot in graphviz!')"
   ]
  },
  {
   "cell_type": "code",
   "execution_count": null,
   "metadata": {},
   "outputs": [],
   "source": []
  },
  {
   "cell_type": "code",
   "execution_count": null,
   "metadata": {},
   "outputs": [],
   "source": []
  }
 ],
 "metadata": {
  "kernelspec": {
   "display_name": "Python 3",
   "language": "python",
   "name": "python3"
  },
  "language_info": {
   "codemirror_mode": {
    "name": "ipython",
    "version": 3
   },
   "file_extension": ".py",
   "mimetype": "text/x-python",
   "name": "python",
   "nbconvert_exporter": "python",
   "pygments_lexer": "ipython3",
   "version": "3.7.3"
  }
 },
 "nbformat": 4,
 "nbformat_minor": 2
}
